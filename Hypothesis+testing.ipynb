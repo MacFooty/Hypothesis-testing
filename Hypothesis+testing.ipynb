{
 "cells": [
  {
   "cell_type": "markdown",
   "metadata": {},
   "source": [
    "## The Problem\n",
    "\n",
    "25 students at Upgrad and Byte Academy each completed the Annual Data Science Exam 2017. The exam is score out of 50 and we want to understand if the test scores of the two groups are statistically significantly different. Use the two lists of scores provided and conduct a **two-sided t-test**.\n",
    "The following steps should be included:\n",
    "#### 1) Stating Null and alternative hypothesis\n",
    "#### 2) The t should be calcuated with a function\n",
    "#### 3) The conlusion should be written clearly outlining whether the null hypothesis was accepted or rejected"
   ]
  },
  {
   "cell_type": "code",
   "execution_count": 6,
   "metadata": {},
   "outputs": [],
   "source": [
    "import random\n",
    "import numpy as np\n",
    "\n",
    "\n",
    "byte_scores = random.sample(range(5,50),25)\n",
    "upgrad_scores = random.sample(range(0,50),25)"
   ]
  },
  {
   "cell_type": "markdown",
   "metadata": {},
   "source": [
    "<li>\n",
    "    <ul><b>Null Hypothesis</b>: Mean scores of the students from Byte Academy is approximately equal to the mean scores of the students from UpGrad.</ul>\n",
    "    \n",
    "<ul><b>Alternate Hypothesis</b>: Mean scores of the students from Byte Academy is greater than the mean scores of the students from UpGrad.</ul>\n",
    "</li>"
   ]
  },
  {
   "cell_type": "markdown",
   "metadata": {},
   "source": [
    "We are looking at 5% level of significance. The degrees of freedom for our  data is 25-1=24 and we are looking at one tail. The t value for df=4 and significance 0.05, one tailed is <b>1.7109</b>. Therefore, our rejection region is \\[1.7109,infinity)"
   ]
  },
  {
   "cell_type": "code",
   "execution_count": 2,
   "metadata": {},
   "outputs": [],
   "source": [
    "def t_value(b_scores,u_scores):\n",
    "    b_mean=np.mean(b_scores)\n",
    "    u_mean=np.mean(u_scores)\n",
    "    b_std=np.std(b_scores)\n",
    "    u_std=np.std(u_scores)\n",
    "    return (b_mean-u_mean)/np.sqrt(b_std**2/len(b_scores)+u_std**2/len(u_scores))"
   ]
  },
  {
   "cell_type": "code",
   "execution_count": 4,
   "metadata": {},
   "outputs": [],
   "source": [
    "def hypothesis():\n",
    "    ans=t_value(byte_scores,upgrad_scores)\n",
    "    if(ans>1.7109):\n",
    "        print(\"Reject the null hyphothesis.\")\n",
    "    else:\n",
    "        print(\"Accept the null hyphothesis.\")\n",
    "    return ans"
   ]
  },
  {
   "cell_type": "code",
   "execution_count": 7,
   "metadata": {},
   "outputs": [
    {
     "name": "stdout",
     "output_type": "stream",
     "text": [
      "Accept the null hyphothesis.\n"
     ]
    },
    {
     "data": {
      "text/plain": [
       "1.55177758942976"
      ]
     },
     "execution_count": 7,
     "metadata": {},
     "output_type": "execute_result"
    }
   ],
   "source": [
    "hypothesis()"
   ]
  },
  {
   "cell_type": "code",
   "execution_count": null,
   "metadata": {},
   "outputs": [],
   "source": []
  },
  {
   "cell_type": "code",
   "execution_count": null,
   "metadata": {},
   "outputs": [],
   "source": []
  }
 ],
 "metadata": {
  "kernelspec": {
   "display_name": "Python 3",
   "language": "python",
   "name": "python3"
  },
  "language_info": {
   "codemirror_mode": {
    "name": "ipython",
    "version": 3
   },
   "file_extension": ".py",
   "mimetype": "text/x-python",
   "name": "python",
   "nbconvert_exporter": "python",
   "pygments_lexer": "ipython3",
   "version": "3.6.5"
  }
 },
 "nbformat": 4,
 "nbformat_minor": 2
}
